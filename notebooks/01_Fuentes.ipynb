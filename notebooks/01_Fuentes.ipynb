{
 "cells": [
  {
   "cell_type": "markdown",
   "metadata": {},
   "source": [
    "# OBTENCIÓN DE DATOS DEL PROYECTO"
   ]
  },
  {
   "cell_type": "markdown",
   "metadata": {},
   "source": [
    "Para la realización del proyecto, se han empleado datos de diversas fuentes: \n",
    "\n",
    "1. Dataset de salarios a nivel global de empleos relacionados con Data Science, Machine Learning, Inteligencia Artificial..., el cual se puede descargar [aquí](https://aijobs.net/salaries/download/.). Este conjunto de datos está almacenado en [ML-AI-Salary-Prediction/data/raw/salaries.csv](../data/raw/salaries.csv)\n",
    "\n",
    "2.  Tabla que recoge los distintos códigos ISO para los países, además de información adicional como región y continente a los que pertenecen cada uno de ellos. La información ha sido almacenada en [ML-AI-Salary-Prediction/data/raw/country_continent_ISO.csv](../data/raw/country_continent_ISO.csv). La obtención de estos datos se ha hecho a través de web scrapping, mediante el código incluido [aquí](#obtención-de-los-códigos-iso-de-los-países).\n",
    "\n",
    "3. Información sobre el PIB de cada país, descargada de [esta](https://datos.bancomundial.org/indicator/NY.GDP.MKTP.KD) página web: Al solicitar la descarga de los datos en formato csv, obtenemos tres archivos (ubicados en la carpeta [API_NY.GDP.MKTP.KD_DS2_es_csv_v2_2115](../data/raw/API_NY.GDP.MKTP.KD_DS2_es_csv_v2_2115))"
   ]
  },
  {
   "cell_type": "markdown",
   "metadata": {},
   "source": [
    "## Librerías utilizadas"
   ]
  },
  {
   "cell_type": "code",
   "execution_count": 1,
   "metadata": {},
   "outputs": [],
   "source": [
    "#Librerías básicas\n",
    "import pandas as pd\n",
    "import numpy as np\n",
    "import seaborn as sns\n",
    "import matplotlib.pyplot as plt\n",
    "\n",
    "#Librerías para scrapear \n",
    "import requests\n",
    "from bs4 import BeautifulSoup\n",
    "from io import StringIO"
   ]
  },
  {
   "cell_type": "markdown",
   "metadata": {},
   "source": [
    "## Obtención de los códigos ISO de los países"
   ]
  },
  {
   "cell_type": "code",
   "execution_count": 2,
   "metadata": {},
   "outputs": [],
   "source": [
    "url_country_continent = \"https://cloford.com/resources/codes/index.htm\"\n",
    "page = requests.get(url_country_continent)\n",
    "soup = BeautifulSoup(page.content, 'html.parser')\n",
    "\n",
    "tbl = soup.find_all(\"table\")\n",
    "tbl_df = pd.read_html(StringIO(str(tbl[3])))[1]\n",
    "tbl_df.to_csv(\"../data/raw/country_continent_ISO.csv\")"
   ]
  }
 ],
 "metadata": {
  "kernelspec": {
   "display_name": "Python 3",
   "language": "python",
   "name": "python3"
  },
  "language_info": {
   "codemirror_mode": {
    "name": "ipython",
    "version": 3
   },
   "file_extension": ".py",
   "mimetype": "text/x-python",
   "name": "python",
   "nbconvert_exporter": "python",
   "pygments_lexer": "ipython3",
   "version": "3.12.0"
  }
 },
 "nbformat": 4,
 "nbformat_minor": 2
}
